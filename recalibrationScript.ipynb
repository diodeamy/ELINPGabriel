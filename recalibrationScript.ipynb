{
 "cells": [
  {
   "cell_type": "code",
   "execution_count": 5,
   "id": "190db71b",
   "metadata": {},
   "outputs": [],
   "source": [
    "import ROOT\n",
    "import os"
   ]
  },
  {
   "cell_type": "code",
   "execution_count": 23,
   "id": "621ab72e",
   "metadata": {},
   "outputs": [],
   "source": [
    "def recalibrate_spectrum(path, callback):\n",
    "    \"\"\"\n",
    "    TBA - this function should recalibrate the energy axis of spectra \n",
    "    \n",
    "    Parameters\n",
    "    -------\n",
    "    path: the path to the folder that contains all the files you wish to process\n",
    "    callback: the function to be applied to the \n",
    "    \"\"\"\n",
    "    file_paths = []\n",
    "    for root, directories, files in os.walk(path):\n",
    "        for file_name in files:\n",
    "            if file_name != '.DS_Store':\n",
    "                file_path = os.path.join(root, file_name)\n",
    "                file_paths.append(file_path)\n",
    "            callback(file_path)\n",
    "    return file_paths #actionable\n",
    "        \n",
    "    \n",
    "        "
   ]
  },
  {
   "cell_type": "code",
   "execution_count": 24,
   "id": "67d02df5",
   "metadata": {},
   "outputs": [
    {
     "data": {
      "text/plain": [
       "['data/.DS_Store',\n",
       " 'data/deuterated-digitizer_1.root',\n",
       " 'data/deuterated-digitizer_2.root',\n",
       " 'data/deuterated-digitizer_3.root']"
      ]
     },
     "execution_count": 24,
     "metadata": {},
     "output_type": "execute_result"
    }
   ],
   "source": [
    "def process_files(path):\n",
    "    file_paths = []\n",
    "    for root, directories, files in os.walk(path):\n",
    "        for file_name in files:\n",
    "            file_path = os.path.join(root, file_name)\n",
    "            file_paths.append(file_path)\n",
    "    \n",
    "    return file_paths #actionable\n",
    "    print(file_paths)\n",
    "processFiles('data')"
   ]
  },
  {
   "cell_type": "code",
   "execution_count": null,
   "id": "414d9980",
   "metadata": {},
   "outputs": [],
   "source": [
    "def actual_callibration(file_path, branch_name):\n",
    "    myFile = ROOT.TFile.Open(file_path)\n",
    "    myTree = myFile.Get(branch_name)"
   ]
  }
 ],
 "metadata": {
  "kernelspec": {
   "display_name": "Python 3 (ipykernel)",
   "language": "python",
   "name": "python3"
  },
  "language_info": {
   "codemirror_mode": {
    "name": "ipython",
    "version": 3
   },
   "file_extension": ".py",
   "mimetype": "text/x-python",
   "name": "python",
   "nbconvert_exporter": "python",
   "pygments_lexer": "ipython3",
   "version": "3.9.7"
  }
 },
 "nbformat": 4,
 "nbformat_minor": 5
}
