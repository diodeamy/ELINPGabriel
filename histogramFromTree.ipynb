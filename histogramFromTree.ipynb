{
 "cells": [
  {
   "cell_type": "code",
   "execution_count": 48,
   "id": "34d59215",
   "metadata": {
    "vscode": {
     "languageId": "python"
    }
   },
   "outputs": [],
   "source": [
    "import ROOT\n",
    "import uproot\n",
    "import matplotlib.pyplot as plt\n",
    "import numpy as np\n",
    "from ROOT import gROOT\n",
    "ROOT.TH1.AddDirectory(False)\n",
    "\n",
    "# gROOT.Reset()\n",
    "\n",
    "# myStyle = ROOT.TStyle('myStyle', 'my very own graphics style')\n",
    "# myStyle.SetCanvasColor(ROOT.kGreen)\n",
    "# ROOT.gROOT.SetStyle('myStyle')"
   ]
  },
  {
   "cell_type": "markdown",
   "id": "f7dafc9a",
   "metadata": {},
   "source": [
    "### I wish to extract data from a 'tree' and plot it as a histogram"
   ]
  },
  {
   "cell_type": "code",
   "execution_count": 49,
   "id": "06d60b77",
   "metadata": {
    "vscode": {
     "languageId": "python"
    }
   },
   "outputs": [],
   "source": [
    "myFile = ROOT.TFile.Open(\"data/deuterated-digitizer_1.root\")\n",
    "myTree = myFile.Get('events')\n",
    "\n",
    "energy = np.zeros(1, dtype=np.float64)\n",
    "detector = np.zeros(1, dtype=np.ulonglong)\n",
    "\n",
    "myTree.SetBranchAddress('energy', energy)\n",
    "myTree.SetBranchAddress('detectorId', detector)\n",
    "\n",
    "\n",
    "histograms = {}\n",
    "\n",
    "binnum = 2**14\n",
    "binmin = 0\n",
    "binmax = 2**14"
   ]
  },
  {
   "cell_type": "code",
   "execution_count": 53,
   "id": "e276cf3d",
   "metadata": {
    "vscode": {
     "languageId": "python"
    }
   },
   "outputs": [],
   "source": [
    "ROOT.TH1F.AddDirectory(False)\n",
    "\n",
    "h1 = ROOT.TH1F('hist_det1', 'Hisstogram 1', binnum, binmin, binmax)\n",
    "for entriy in range(myTree.GetEntries()//1000):\n",
    "    \n",
    "    h1.Fill(energy)\n",
    "\n",
    "# for entry in range(myTree.GetEntries()//1000):\n",
    "#     myTree.GetEntry(entry)\n",
    "    \n",
    "#     if detector[0] not in histograms:\n",
    "#         histograms[detector[0]] = ROOT.TH1F(f\"hist_{detector[0]}\", f\"Energy Distribution - Detector {detector[0]}\", binnum, binmin, binmax)\n",
    "        \n",
    "#     histograms[detector[0]].Fill(energy[0])"
   ]
  },
  {
   "cell_type": "code",
   "execution_count": 56,
   "id": "bc958b52",
   "metadata": {
    "vscode": {
     "languageId": "python"
    }
   },
   "outputs": [
    {
     "data": {
      "image/png": "[encoded data removed]",
      "text/plain": [
       "<IPython.core.display.Image object>"
      ]
     },
     "metadata": {},
     "output_type": "display_data"
    }
   ],
   "source": [
    "if \"canvas\" in ROOT.gROOT.GetListOfCanvases():\n",
    "    ROOT.gROOT.GetListOfCanvases().FindObject(\"canvas\").Close()\n",
    "\n",
    "canvas = ROOT.TCanvas(\"canvas\", \"Histograms\", 800, 600)\n",
    "h1.Draw()\n",
    "\n",
    "# canvas.Divide(2, 2)\n",
    "\n",
    "# pad_index = 1\n",
    "# for detector_id, histogram in histograms.items():\n",
    "#     canvas.cd(pad_index)  # Activate the pad at the current index\n",
    "#     histogram.Draw()\n",
    "#     histogram.GetXaxis().SetTitle(\"Energy\")\n",
    "#     histogram.GetYaxis().SetTitle(\"Frequency\")\n",
    "#     pad_index += 1\n",
    "    \n",
    "canvas.Update()\n",
    "canvas.Draw()\n",
    "\n",
    "myFile.Close()"
   ]
  },
  {
   "cell_type": "code",
   "execution_count": 4,
   "id": "6c00b0e6",
   "metadata": {
    "vscode": {
     "languageId": "python"
    }
   },
   "outputs": [
    {
     "ename": "TypeError",
     "evalue": "'int' object is not iterable",
     "output_type": "error",
     "traceback": [
      "\u001b[0;31m---------------------------------------------------------------------------\u001b[0m",
      "\u001b[0;31mTypeError\u001b[0m                                 Traceback (most recent call last)",
      "\u001b[0;32m/var/folders/92/lch654g970bbnp6xj7dvsbxh0000gn/T/ipykernel_3975/1986187523.py\u001b[0m in \u001b[0;36m<module>\u001b[0;34m\u001b[0m\n\u001b[0;32m----> 1\u001b[0;31m \u001b[0;32mfor\u001b[0m \u001b[0mi\u001b[0m \u001b[0;32min\u001b[0m \u001b[0mentries\u001b[0m\u001b[0;34m:\u001b[0m\u001b[0;34m\u001b[0m\u001b[0;34m\u001b[0m\u001b[0m\n\u001b[0m\u001b[1;32m      2\u001b[0m     \u001b[0mmyTree\u001b[0m\u001b[0;34m.\u001b[0m\u001b[0mGetEntry\u001b[0m\u001b[0;34m(\u001b[0m\u001b[0mi\u001b[0m\u001b[0;34m)\u001b[0m\u001b[0;34m\u001b[0m\u001b[0;34m\u001b[0m\u001b[0m\n",
      "\u001b[0;31mTypeError\u001b[0m: 'int' object is not iterable"
     ]
    }
   ],
   "source": [
    "for i in entries:\n",
    "    myTree.GetEntry(i)\n",
    "    if detectorId == 1:\n",
    "        myHist.Fill()"
   ]
  },
  {
   "cell_type": "markdown",
   "id": "8d9b88f0",
   "metadata": {},
   "source": [
    "## How to get some information on a tree"
   ]
  },
  {
   "cell_type": "code",
   "execution_count": null,
   "id": "3c6b1e60",
   "metadata": {
    "vscode": {
     "languageId": "python"
    }
   },
   "outputs": [],
   "source": [
    "for branch in myTree.GetListOfBranches():\n",
    "    print(branch.GetName())"
   ]
  },
  {
   "cell_type": "code",
   "execution_count": 42,
   "id": "5216e42a",
   "metadata": {
    "vscode": {
     "languageId": "python"
    }
   },
   "outputs": [
    {
     "name": "stdout",
     "output_type": "stream",
     "text": [
      "******************************************************************************\n",
      "*Tree    :events    : events tree                                            *\n",
      "*Entries : 40921088 : Total =       818594595 bytes  File  Size =  505511653 *\n",
      "*        :          : Tree compression factor =   1.62                       *\n",
      "******************************************************************************\n",
      "*Br    0 :detectorId : detectorId/s                                          *\n",
      "*Entries : 40921088 : Total  Size=   81863683 bytes  File Size  =    9040487 *\n",
      "*Baskets :      214 : Basket Size=    1280512 bytes  Compression=   9.05     *\n",
      "*............................................................................*\n",
      "*Br    1 :energy    : energy/s                                               *\n",
      "*Entries : 40921088 : Total  Size=   81863766 bytes  File Size  =   65151098 *\n",
      "*Baskets :      215 : Basket Size=    1280000 bytes  Compression=   1.26     *\n",
      "*............................................................................*\n",
      "*Br    2 :boardTimeStamp : boardTimeStamp/l                                  *\n",
      "*Entries : 40921088 : Total  Size=  327437033 bytes  File Size  =  202311993 *\n",
      "*Baskets :      660 : Basket Size=    5121024 bytes  Compression=   1.62     *\n",
      "*............................................................................*\n",
      "*Br    3 :psd       : psd/D                                                  *\n",
      "*Entries : 40921088 : Total  Size=  327429729 bytes  File Size  =  228989754 *\n",
      "*Baskets :      660 : Basket Size=    5119488 bytes  Compression=   1.43     *\n",
      "*............................................................................*\n"
     ]
    }
   ],
   "source": [
    "myTree.Print()"
   ]
  },
  {
   "cell_type": "markdown",
   "id": "cdf33f4b",
   "metadata": {},
   "source": [
    "#### ROOT way"
   ]
  },
  {
   "cell_type": "code",
   "execution_count": 8,
   "id": "60fc5ce4",
   "metadata": {
    "vscode": {
     "languageId": "python"
    }
   },
   "outputs": [
    {
     "ename": "IndexError",
     "evalue": "index out of range",
     "output_type": "error",
     "traceback": [
      "\u001b[0;31m---------------------------------------------------------------------------\u001b[0m",
      "\u001b[0;31mIndexError\u001b[0m                                Traceback (most recent call last)",
      "\u001b[0;32m/var/folders/92/lch654g970bbnp6xj7dvsbxh0000gn/T/ipykernel_3864/2628768808.py\u001b[0m in \u001b[0;36m<module>\u001b[0;34m\u001b[0m\n\u001b[1;32m      3\u001b[0m \u001b[0;31m### attempt 1\u001b[0m\u001b[0;34m\u001b[0m\u001b[0;34m\u001b[0m\u001b[0m\n\u001b[1;32m      4\u001b[0m \u001b[0;32mfor\u001b[0m \u001b[0mi\u001b[0m \u001b[0;32min\u001b[0m \u001b[0mrange\u001b[0m\u001b[0;34m(\u001b[0m\u001b[0mint\u001b[0m\u001b[0;34m(\u001b[0m\u001b[0mmyData\u001b[0m\u001b[0;34m.\u001b[0m\u001b[0msize\u001b[0m\u001b[0;34m(\u001b[0m\u001b[0;34m)\u001b[0m\u001b[0;34m)\u001b[0m\u001b[0;34m)\u001b[0m\u001b[0;34m:\u001b[0m\u001b[0;34m\u001b[0m\u001b[0;34m\u001b[0m\u001b[0m\n\u001b[0;32m----> 5\u001b[0;31m     \u001b[0mmyHist\u001b[0m\u001b[0;34m.\u001b[0m\u001b[0mFill\u001b[0m\u001b[0;34m(\u001b[0m\u001b[0mmyData\u001b[0m\u001b[0;34m[\u001b[0m\u001b[0mi\u001b[0m\u001b[0;34m]\u001b[0m\u001b[0;34m,\u001b[0m \u001b[0mmyErr\u001b[0m\u001b[0;34m[\u001b[0m\u001b[0mi\u001b[0m\u001b[0;34m]\u001b[0m\u001b[0;34m)\u001b[0m\u001b[0;34m\u001b[0m\u001b[0;34m\u001b[0m\u001b[0m\n\u001b[0m\u001b[1;32m      6\u001b[0m \u001b[0;34m\u001b[0m\u001b[0m\n\u001b[1;32m      7\u001b[0m \u001b[0mcanvas\u001b[0m \u001b[0;34m=\u001b[0m \u001b[0mROOT\u001b[0m\u001b[0;34m.\u001b[0m\u001b[0mTCanvas\u001b[0m\u001b[0;34m(\u001b[0m\u001b[0;34m\"canvas\"\u001b[0m\u001b[0;34m,\u001b[0m \u001b[0;34m\"Histogram Canvas\"\u001b[0m\u001b[0;34m)\u001b[0m\u001b[0;34m\u001b[0m\u001b[0;34m\u001b[0m\u001b[0m\n",
      "\u001b[0;31mIndexError\u001b[0m: index out of range"
     ]
    }
   ],
   "source": [
    "myHist = ROOT.TH1F('histogram', 'Histogram of Data', binNum , binMin, binMax)\n",
    "\n",
    "### attempt 1\n",
    "for i in range(int(myData.size())):\n",
    "    myHist.Fill(myData[i], myErr[i])\n",
    "\n",
    "canvas = ROOT.TCanvas(\"canvas\", \"Histogram Canvas\")\n",
    "myHist.Draw()\n",
    "canvas.Draw()\n",
    "\n",
    "### attempt 2\n",
    "# dataList = [myData[i] for i in range(len(myData))] #we attempt a solution by turning the vector into a python list\n",
    "# myHist.Fill(myData[i], myError)"
   ]
  },
  {
   "cell_type": "code",
   "execution_count": 37,
   "id": "34c5333b",
   "metadata": {
    "vscode": {
     "languageId": "python"
    }
   },
   "outputs": [
    {
     "name": "stdout",
     "output_type": "stream",
     "text": [
      "TFile**\t\tdata/deuterated-digitizer_1.root\t\n",
      " TFile*\t\tdata/deuterated-digitizer_1.root\t\n",
      "  OBJ: TTree\tevents\tevents tree : 0 at: 0x7f86f25afaf0\n",
      "  KEY: TTree\tevents;18\tevents tree [current cycle]\n",
      "  KEY: TTree\tevents;17\tevents tree [backup cycle]\n"
     ]
    }
   ],
   "source": [
    "### with .ls() one can check the directory contents of a TFile\n",
    "myFile.ls()"
   ]
  },
  {
   "cell_type": "markdown",
   "id": "9e18b4f9",
   "metadata": {},
   "source": [
    "#### ROOT.RDataFrame way"
   ]
  },
  {
   "cell_type": "code",
   "execution_count": 4,
   "id": "2465664e",
   "metadata": {
    "vscode": {
     "languageId": "python"
    }
   },
   "outputs": [
    {
     "name": "stderr",
     "output_type": "stream",
     "text": [
      "Warning in <TCanvas::Constructor>: Deleting canvas with same name: canvas\n"
     ]
    },
    {
     "data": {
      "image/png": "[encoded data removed]",
      "text/plain": [
       "<IPython.core.display.Image object>"
      ]
     },
     "metadata": {},
     "output_type": "display_data"
    }
   ],
   "source": [
    "rdf = ROOT.RDataFrame(myTree)\n",
    "\n",
    "histogram = rdf.Histo1D(('histogram', 'Histogram of Data; ENERGY; COUNTS', binNum, binMin, binMax), 'energy')\n",
    "canvas = ROOT.TCanvas('canvas', 'Histogram Canvas')\n",
    "histogram.GetXaxis().SetRangeUser(4000, 8000)\n",
    "histogram.Draw()\n",
    "canvas.Draw()"
   ]
  },
  {
   "cell_type": "markdown",
   "id": "70eff49e",
   "metadata": {},
   "source": [
    "#### uproot (python library)"
   ]
  },
  {
   "cell_type": "code",
   "execution_count": 3,
   "id": "7c67c9b9",
   "metadata": {
    "vscode": {
     "languageId": "python"
    }
   },
   "outputs": [],
   "source": [
    "file = uproot.open(\"data/deuterated-digitizer_1.root\")\n",
    "tree = file['events']\n",
    "branch = tree['energy']\n",
    "data = branch.array()"
   ]
  },
  {
   "cell_type": "code",
   "execution_count": 8,
   "id": "d6aae72d",
   "metadata": {
    "vscode": {
     "languageId": "python"
    }
   },
   "outputs": [
    {
     "data": {
      "image/png": "[encoded data removed]",
      "text/plain": [
       "<Figure size 432x288 with 1 Axes>"
      ]
     },
     "metadata": {
      "needs_background": "light"
     },
     "output_type": "display_data"
    }
   ],
   "source": [
    "plt.hist(data, bins =100)\n",
    "plt.xlabel('Energy')\n",
    "plt.ylabel('counts')\n",
    "plt.title('Energies for Deuterized Digitizer')\n",
    "plt.show()"
   ]
  },
  {
   "cell_type": "code",
   "execution_count": null,
   "id": "f98efb3d",
   "metadata": {
    "vscode": {
     "languageId": "python"
    }
   },
   "outputs": [],
   "source": []
  }
 ],
 "metadata": {
  "kernelspec": {
   "display_name": "ROOT C++",
   "language": "c++",
   "name": "root"
  },
  "language_info": {
   "codemirror_mode": {
    "name": "ipython",
    "version": 3
   },
   "file_extension": ".py",
   "mimetype": "text/x-python",
   "name": "c++",
   "nbconvert_exporter": "python",
   "pygments_lexer": "ipython3",
   "version": "3.9.7"
  }
 },
 "nbformat": 4,
 "nbformat_minor": 5
}
